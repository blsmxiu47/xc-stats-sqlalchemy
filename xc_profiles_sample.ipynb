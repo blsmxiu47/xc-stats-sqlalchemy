{
 "cells": [
  {
   "cell_type": "markdown",
   "metadata": {},
   "source": [
    "This is merely a sample of data from the interscholastic Track & Field and Cross Country statistics website Athletic.Net.\n",
    "\n",
    "In order to make my examples clear and easy to follow, I have decided to play around with just a few rows (in particular, stats for my brother and I; me back from when I was running XC in high school) taken from Althletic.Net statistics I parsed the other day using python's Beautiful Soup module.\n",
    "\n",
    "I will likely include a link to a more comprehensive web-scraping and statistical analysis project using some of this data, but as of the time of this writing, I have yet to decide exactly what I want to do with it.\n",
    "\n",
    "I want to get this short SQL/sqlite/sqlalchemy sample uploaded first, because of how in-demand basic db-interaction/querying skills seem to be when it comes to entry-level positions."
   ]
  },
  {
   "cell_type": "code",
   "execution_count": 1,
   "metadata": {},
   "outputs": [
    {
     "name": "stdout",
     "output_type": "stream",
     "text": [
      "Engine(sqlite:///xc_profiles.db)\n",
      "[]\n",
      "<sqlalchemy.engine.base.Connection object at 0x000002555DFCBEB8>\n"
     ]
    }
   ],
   "source": [
    "import sqlite3\n",
    "from sqlalchemy import create_engine, MetaData\n",
    "\n",
    "# Create connection to local database file\n",
    "engine = create_engine('sqlite:///xc_profiles.db')\n",
    "connection = engine.connect()\n",
    "print(engine)\n",
    "metadata = MetaData(engine)\n",
    "for tbl in reversed(metadata.sorted_tables):\n",
    "    engine.execute(tbl.delete())\n",
    "\n",
    "metadata.drop_all()\n",
    "print(engine.table_names())\n",
    "print(connection)"
   ]
  },
  {
   "cell_type": "code",
   "execution_count": 2,
   "metadata": {},
   "outputs": [
    {
     "name": "stdout",
     "output_type": "stream",
     "text": [
      "None\n",
      "[]\n",
      "['stats2']\n"
     ]
    }
   ],
   "source": [
    "from sqlalchemy import Table, Column, String, Integer, Float, Boolean\n",
    "\n",
    "metadata.drop_all()\n",
    "metadata.clear()\n",
    "print(metadata.reflect())\n",
    "\n",
    "# NOTE: for reference, and those unfamiliar with sqlalchemy syntax,\n",
    "# I will include the equivalent SQL statement as a comment above each operation.\n",
    "\n",
    "\n",
    "print(engine.table_names())\n",
    "# CREATE TABLE example: \"\"\"CREATE TABLE stats2 (Name VARCHAR, Event VARCHAR, Year INTEGER, ...etc)\"\"\"\n",
    "stats2 = Table('stats2', metadata,\n",
    "             Column('Name', String(255)),\n",
    "             Column('Event', String(255)),\n",
    "             Column('Year', Integer()),\n",
    "             Column('Grade', String(255)),\n",
    "             Column('Time', String(255)), extend_existing=True)\n",
    "\n",
    "# Use metadata to create the stats2 table defined above\n",
    "metadata.create_all(engine)\n",
    "\n",
    "# Confrim the tables we have to work with. stats2 should be present.\n",
    "print(engine.table_names())"
   ]
  },
  {
   "cell_type": "code",
   "execution_count": 3,
   "metadata": {},
   "outputs": [
    {
     "name": "stdout",
     "output_type": "stream",
     "text": [
      "Table('stats2', MetaData(bind=Engine(sqlite:///xc_profiles.db)), Column('Name', String(length=255), table=<stats2>), Column('Event', String(length=255), table=<stats2>), Column('Year', Integer(), table=<stats2>), Column('Grade', String(length=255), table=<stats2>), Column('Time', String(length=255), table=<stats2>), schema=None)\n"
     ]
    }
   ],
   "source": [
    "# Print stats2 table details\n",
    "print(repr(stats2))"
   ]
  },
  {
   "cell_type": "code",
   "execution_count": 4,
   "metadata": {},
   "outputs": [
    {
     "name": "stdout",
     "output_type": "stream",
     "text": [
      "INSERT INTO stats2 (\"Name\", \"Event\", \"Year\", \"Grade\", \"Time\") VALUES (?, ?, ?, ?, ?)\n",
      "NumRows: 8\n"
     ]
    }
   ],
   "source": [
    "from sqlalchemy import insert, select\n",
    "\n",
    "# As mentioned in the introduction, for simplicity and reference\n",
    "# I am just working with a few rows from my athletic.net data:\n",
    "stats_list = [\n",
    "    {'Name': 'Wesley Warriner', 'Event': '3,000 Meters', 'Year': 2012, 'Grade': '10th Grade', 'Time': '13:05.0 PR'},\n",
    "    {'Name': 'Wesley Warriner', 'Event': '3,000 Meters', 'Year': 2014, 'Grade': '12th Grade', 'Time': '14:12.0'},\n",
    "    {'Name': 'Wesley Warriner', 'Event': '5,000 Meters', 'Year': 2011, 'Grade': '9th Grade', 'Time': '18:57.0'},\n",
    "    {'Name': 'Wesley Warriner', 'Event': '5,000 Meters', 'Year': 2012, 'Grade': '10th Grade', 'Time': '17:48.1 PR'},\n",
    "    {'Name': 'Wesley Warriner', 'Event': '5,000 Meters', 'Year': 2013, 'Grade': '11th Grade', 'Time': '19:30.0'},\n",
    "    {'Name': 'Wesley Warriner', 'Event': '5,000 Meters', 'Year': 2013, 'Grade': '12th Grade', 'Time': '19:00.0'},    \n",
    "    {'Name': 'Duncan Warriner', 'Event': '5,000 Meters', 'Year': 2016, 'Grade': '9th Grade', 'Time': '19:07.0'},\n",
    "    {'Name': 'Duncan Warriner', 'Event': '5,000 Meters', 'Year': 2017, 'Grade': '10th Grade', 'Time': '18:29.6 PR'}\n",
    "]\n",
    "\n",
    "\n",
    "# Prepare INSERT statement for stats_list entries into stats2 table: \n",
    "#   \"\"\"INSERT INTO stats2 (\"Name\", \"Event\", \"Year\", \"Grade\", \"Time\") VALUES (:Name, :Event, :Year, :Grade, :Time)\"\"\"\n",
    "insert_stmt = insert(stats2)\n",
    "# btw this is how you can quickly retrieve the string equivalent:\n",
    "print(str(insert_stmt))\n",
    "\n",
    "# Execute stmt with the stats_list list of dicts\n",
    "insert_results = connection.execute(insert_stmt, stats_list)\n",
    "\n",
    "# Print rowcount to confirm INSERT\n",
    "print('NumRows:',insert_results.rowcount)"
   ]
  },
  {
   "cell_type": "code",
   "execution_count": 5,
   "metadata": {},
   "outputs": [
    {
     "name": "stdout",
     "output_type": "stream",
     "text": [
      "[('Duncan Warriner', '5,000 Meters', 2016, '9th Grade', '19:07.0'), ('Duncan Warriner', '5,000 Meters', 2017, '10th Grade', '18:29.6 PR')]\n"
     ]
    }
   ],
   "source": [
    "# SELECT statement: \"\"\"SELECT * FROM stats2 WHERE Name == 'Duncan Warriner'\"\"\"\n",
    "select_stmt = select([stats2]).where(stats2.columns.Name == 'Duncan Warriner')\n",
    "select_results = connection.execute(select_stmt).fetchall()\n",
    "print(select_results)"
   ]
  },
  {
   "cell_type": "code",
   "execution_count": 6,
   "metadata": {},
   "outputs": [
    {
     "name": "stdout",
     "output_type": "stream",
     "text": [
      "[('13:05.0 PR',), ('14:12.0',)]\n"
     ]
    }
   ],
   "source": [
    "from sqlalchemy import and_\n",
    "\n",
    "# one more simple SELECT statement: \"\"\"SELECT Time FROM stats2 WHERE Name == 'Wesley Warriner' AND Event == '3,000 Meters'\"\"\"\n",
    "select_stmt = select([stats2.columns.Time]).where(\n",
    "    and_(\n",
    "        stats2.columns.Name == 'Wesley Warriner',\n",
    "        stats2.columns.Event == '3,000 Meters'))\n",
    "select_results = connection.execute(select_stmt).fetchall()\n",
    "print(select_results)"
   ]
  },
  {
   "cell_type": "code",
   "execution_count": 7,
   "metadata": {},
   "outputs": [
    {
     "name": "stdout",
     "output_type": "stream",
     "text": [
      "[('9th Grade',)]\n"
     ]
    }
   ],
   "source": [
    "from sqlalchemy import update\n",
    "\n",
    "# UPDATE statement example: \"\"\"UPDATE stats2 SET Grade = '9th Grade' WHERE Name = 'Duncan Warriner' AND Year = 2017\"\"\"\n",
    "update_stmt = update(stats2).values(Grade='9th Grade').where(\n",
    "    and_(\n",
    "        stats2.columns.Name == 'Duncan Warriner',\n",
    "        stats2.columns.Year == 2017)\n",
    "    )\n",
    "connection.execute(update_stmt)\n",
    "\n",
    "# confirmation SELECT statement: \"\"\"SELECT * FROM stats2 WHERE Grade == '9th Grade'\n",
    "#   AND Name == 'Duncan Warriner' AND Year == 2017\"\"\"\n",
    "select_stmt = select([stats2.columns.Grade]).where(\n",
    "    and_(\n",
    "        stats2.columns.Name == 'Duncan Warriner',\n",
    "        stats2.columns.Year == 2017\n",
    "    ))\n",
    "    \n",
    "select_results = connection.execute(select_stmt).fetchall()\n",
    "print(select_results)"
   ]
  },
  {
   "cell_type": "code",
   "execution_count": 8,
   "metadata": {},
   "outputs": [
    {
     "name": "stdout",
     "output_type": "stream",
     "text": [
      "[('10th Grade',)]\n"
     ]
    }
   ],
   "source": [
    "# And actually let's go ahead and revert what we just updated\n",
    "update_stmt = update(stats2).values(Grade='10th Grade').where(\n",
    "    and_(\n",
    "        stats2.columns.Name == 'Duncan Warriner',\n",
    "        stats2.columns.Year == 2017)\n",
    "    )\n",
    "connection.execute(update_stmt)\n",
    "\n",
    "# confirmation SELECT statement: \"\"\"SELECT * FROM stats2 WHERE Grade == '10th Grade'\n",
    "#   AND Name == 'Duncan Warriner' AND Year == 2017\"\"\"\n",
    "select_stmt = select([stats2.columns.Grade]).where(\n",
    "    and_(\n",
    "        stats2.columns.Name == 'Duncan Warriner',\n",
    "        stats2.columns.Year == 2017\n",
    "    ))\n",
    "    \n",
    "select_results = connection.execute(select_stmt).fetchall()\n",
    "print(select_results)"
   ]
  },
  {
   "cell_type": "code",
   "execution_count": 9,
   "metadata": {},
   "outputs": [
    {
     "name": "stdout",
     "output_type": "stream",
     "text": [
      "[('Duncan Warriner', '5,000 Meters', 2017, '10th Grade', '18:29.6 PR'), ('Duncan Warriner', '5,000 Meters', 2016, '9th Grade', '19:07.0'), ('Wesley Warriner', '3,000 Meters', 2012, '10th Grade', '13:05.0 PR'), ('Wesley Warriner', '5,000 Meters', 2012, '10th Grade', '17:48.1 PR'), ('Wesley Warriner', '5,000 Meters', 2011, '9th Grade', '18:57.0')]\n"
     ]
    }
   ],
   "source": [
    "from sqlalchemy import or_, desc\n",
    "# ORDER BY example: \"\"\"SELECT * FROM stats2 WHERE (Name == 'Wesley Warriner' OR Name == 'Duncan Warriner') AND \n",
    "#   (Grade == '9th Grade' OR Grade == '10th Grade') ORDER BY 'Year' DESC\"\"\"\n",
    "stmt = select([stats2]).where( \n",
    "    and_(\n",
    "        or_(\n",
    "            #I know these are currently the only two names, just an example of usage:\n",
    "            stats2.columns.Name == 'Wesley Warriner',\n",
    "            stats2.columns.Name == 'Duncan Warriner'),\n",
    "        or_(\n",
    "            stats2.columns.Grade == '9th Grade',\n",
    "            stats2.columns.Grade == '10th Grade')\n",
    "    ))\n",
    "ordered_stmt = stmt.order_by(desc(stats2.columns.Year))\n",
    "\n",
    "ordered_results = connection.execute(ordered_stmt).fetchall()\n",
    "print(ordered_results)"
   ]
  },
  {
   "cell_type": "code",
   "execution_count": 10,
   "metadata": {},
   "outputs": [
    {
     "name": "stdout",
     "output_type": "stream",
     "text": [
      "Distinct years: 6 years\n"
     ]
    }
   ],
   "source": [
    "# Maybe just a few more quickies.\n",
    "# We can also include functions, such as COUNT:\n",
    "from sqlalchemy import func\n",
    "\n",
    "# \"\"\"SELECT COUNT(DISTINCT Year) AS count_1 FROM stats2\"\"\"\n",
    "count_distinct_stmt = select([func.count(stats2.columns.Year.distinct())])\n",
    "\n",
    "year_distinct_count = connection.execute(count_distinct_stmt).scalar()\n",
    "print('Distinct years:', year_distinct_count, 'years')"
   ]
  },
  {
   "cell_type": "code",
   "execution_count": 11,
   "metadata": {},
   "outputs": [
    {
     "name": "stdout",
     "output_type": "stream",
     "text": [
      "['athletes2', 'stats2']\n",
      "Table('athletes2', MetaData(bind=Engine(sqlite:///xc_profiles.db)), Column('Name', String(length=255), ForeignKey('stats2.Name'), table=<athletes2>, primary_key=True, nullable=False), Column('School', String(length=255), table=<athletes2>), Column('Graduation_Status', String(length=255), table=<athletes2>), schema=None)\n"
     ]
    }
   ],
   "source": [
    "from sqlalchemy import ForeignKey\n",
    "# Alright let's bring another table into the mix\n",
    "#   Note: the following is not Athletic.Net data. I'm just creating and using it here\n",
    "athletes2 = Table('athletes2', metadata,\n",
    "             Column('Name', String(255), ForeignKey('stats2.Name'), primary_key=True),\n",
    "             Column('School', String(255)),\n",
    "             Column('Graduation_Status', String(255)), extend_existing=True\n",
    ")\n",
    "\n",
    "metadata.create_all(engine)\n",
    "print(engine.table_names())\n",
    "# Print athletes2 table details\n",
    "print(repr(athletes2))"
   ]
  },
  {
   "cell_type": "code",
   "execution_count": 12,
   "metadata": {},
   "outputs": [
    {
     "name": "stdout",
     "output_type": "stream",
     "text": [
      "3\n"
     ]
    }
   ],
   "source": [
    "athletes_list = [\n",
    "    {'Name': 'Wesley Warriner', 'School': 'Lake Washington', 'Graduation_Status': 'Yes'},\n",
    "    {'Name': 'Duncan Warriner', 'School': 'Redmond', 'Graduation_Status': 'No'},\n",
    "    {'Name': 'Cody Banks', 'School': 'Ballard', 'Graduation_Status': 'No'}\n",
    "]\n",
    "\n",
    "insert_stmt = insert(athletes2)\n",
    "insert_results = connection.execute(insert_stmt, athletes_list)\n",
    "# Print rowcount to confirm INSERT\n",
    "print(insert_results.rowcount)"
   ]
  },
  {
   "cell_type": "code",
   "execution_count": 13,
   "metadata": {},
   "outputs": [
    {
     "name": "stdout",
     "output_type": "stream",
     "text": [
      "SELECT stats2.\"Year\", athletes2.\"Graduation_Status\" \n",
      "FROM stats2 JOIN athletes2 ON stats2.\"Name\" = athletes2.\"Name\"\n",
      "[(2012, 'Yes'), (2014, 'Yes'), (2011, 'Yes'), (2012, 'Yes'), (2013, 'Yes'), (2013, 'Yes'), (2016, 'No'), (2017, 'No')]\n"
     ]
    }
   ],
   "source": [
    "# stats2 JOIN athletes2 ON stats2.'Name' = athletes2.'Name'\n",
    "stmt = select([stats2.columns.Year, athletes2.columns.Graduation_Status])\n",
    "join_select_stmt = stmt.select_from(stats2.join(athletes2))\n",
    "\n",
    "print(str(join_select_stmt))\n",
    "\n",
    "results = connection.execute(join_select_stmt).fetchall()\n",
    "print(results)"
   ]
  }
 ],
 "metadata": {
  "kernelspec": {
   "display_name": "Python 3",
   "language": "python",
   "name": "python3"
  },
  "language_info": {
   "codemirror_mode": {
    "name": "ipython",
    "version": 3
   },
   "file_extension": ".py",
   "mimetype": "text/x-python",
   "name": "python",
   "nbconvert_exporter": "python",
   "pygments_lexer": "ipython3",
   "version": "3.6.3"
  }
 },
 "nbformat": 4,
 "nbformat_minor": 2
}
